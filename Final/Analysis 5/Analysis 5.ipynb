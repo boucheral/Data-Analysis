{
 "cells": [
  {
   "cell_type": "code",
   "execution_count": 25,
   "metadata": {
    "collapsed": true
   },
   "outputs": [],
   "source": [
    "import nltk\n",
    "import glob\n",
    "import csv\n",
    "import numpy as np\n",
    "import pandas as pd\n",
    "import matplotlib.pyplot as plt\n",
    "import seaborn as sns\n",
    "from scipy import stats"
   ]
  },
  {
   "cell_type": "code",
   "execution_count": 60,
   "metadata": {
    "collapsed": false
   },
   "outputs": [
    {
     "data": {
      "text/html": [
       "<div>\n",
       "<table border=\"1\" class=\"dataframe\">\n",
       "  <thead>\n",
       "    <tr style=\"text-align: right;\">\n",
       "      <th></th>\n",
       "      <th>id</th>\n",
       "      <th>sex</th>\n",
       "      <th>age</th>\n",
       "      <th>topic</th>\n",
       "      <th>sign</th>\n",
       "      <th>filename</th>\n",
       "    </tr>\n",
       "  </thead>\n",
       "  <tbody>\n",
       "    <tr>\n",
       "      <th>0</th>\n",
       "      <td>1000331</td>\n",
       "      <td>female</td>\n",
       "      <td>37</td>\n",
       "      <td>indUnk</td>\n",
       "      <td>Leo</td>\n",
       "      <td>..\\Data\\1000331.female.37.indUnk.Leo.xml</td>\n",
       "    </tr>\n",
       "    <tr>\n",
       "      <th>1</th>\n",
       "      <td>1000866</td>\n",
       "      <td>female</td>\n",
       "      <td>17</td>\n",
       "      <td>Student</td>\n",
       "      <td>Libra</td>\n",
       "      <td>..\\Data\\1000866.female.17.Student.Libra.xml</td>\n",
       "    </tr>\n",
       "    <tr>\n",
       "      <th>2</th>\n",
       "      <td>1004904</td>\n",
       "      <td>male</td>\n",
       "      <td>23</td>\n",
       "      <td>Arts</td>\n",
       "      <td>Capricorn</td>\n",
       "      <td>..\\Data\\1004904.male.23.Arts.Capricorn.xml</td>\n",
       "    </tr>\n",
       "    <tr>\n",
       "      <th>3</th>\n",
       "      <td>1005076</td>\n",
       "      <td>female</td>\n",
       "      <td>25</td>\n",
       "      <td>Arts</td>\n",
       "      <td>Cancer</td>\n",
       "      <td>..\\Data\\1005076.female.25.Arts.Cancer.xml</td>\n",
       "    </tr>\n",
       "    <tr>\n",
       "      <th>4</th>\n",
       "      <td>1005545</td>\n",
       "      <td>male</td>\n",
       "      <td>25</td>\n",
       "      <td>Engineering</td>\n",
       "      <td>Sagittarius</td>\n",
       "      <td>..\\Data\\1005545.male.25.Engineering.Sagittariu...</td>\n",
       "    </tr>\n",
       "  </tbody>\n",
       "</table>\n",
       "</div>"
      ],
      "text/plain": [
       "        id     sex  age        topic         sign  \\\n",
       "0  1000331  female   37       indUnk          Leo   \n",
       "1  1000866  female   17      Student        Libra   \n",
       "2  1004904    male   23         Arts    Capricorn   \n",
       "3  1005076  female   25         Arts       Cancer   \n",
       "4  1005545    male   25  Engineering  Sagittarius   \n",
       "\n",
       "                                            filename  \n",
       "0           ..\\Data\\1000331.female.37.indUnk.Leo.xml  \n",
       "1        ..\\Data\\1000866.female.17.Student.Libra.xml  \n",
       "2         ..\\Data\\1004904.male.23.Arts.Capricorn.xml  \n",
       "3          ..\\Data\\1005076.female.25.Arts.Cancer.xml  \n",
       "4  ..\\Data\\1005545.male.25.Engineering.Sagittariu...  "
      ]
     },
     "execution_count": 60,
     "metadata": {},
     "output_type": "execute_result"
    }
   ],
   "source": [
    "df = pd.read_csv('..\\csv\\\\filenameinfo.csv')\n",
    "df.head()"
   ]
  },
  {
   "cell_type": "code",
   "execution_count": 61,
   "metadata": {
    "collapsed": true
   },
   "outputs": [],
   "source": [
    "def ageGroup(x) :\n",
    "    if int(x) < 20 :\n",
    "        return 'Teen'\n",
    "    elif int(x) > 29 :\n",
    "        return \"30+\"\n",
    "    else :\n",
    "        return \"20s\""
   ]
  },
  {
   "cell_type": "code",
   "execution_count": 62,
   "metadata": {
    "collapsed": false,
    "scrolled": true
   },
   "outputs": [
    {
     "data": {
      "text/html": [
       "<div>\n",
       "<table border=\"1\" class=\"dataframe\">\n",
       "  <thead>\n",
       "    <tr style=\"text-align: right;\">\n",
       "      <th></th>\n",
       "      <th>id</th>\n",
       "      <th>sex</th>\n",
       "      <th>age</th>\n",
       "      <th>topic</th>\n",
       "      <th>sign</th>\n",
       "      <th>filename</th>\n",
       "      <th>age_group</th>\n",
       "    </tr>\n",
       "  </thead>\n",
       "  <tbody>\n",
       "    <tr>\n",
       "      <th>0</th>\n",
       "      <td>1000331</td>\n",
       "      <td>female</td>\n",
       "      <td>37</td>\n",
       "      <td>indUnk</td>\n",
       "      <td>Leo</td>\n",
       "      <td>..\\Data\\1000331.female.37.indUnk.Leo.xml</td>\n",
       "      <td>30+</td>\n",
       "    </tr>\n",
       "    <tr>\n",
       "      <th>1</th>\n",
       "      <td>1000866</td>\n",
       "      <td>female</td>\n",
       "      <td>17</td>\n",
       "      <td>Student</td>\n",
       "      <td>Libra</td>\n",
       "      <td>..\\Data\\1000866.female.17.Student.Libra.xml</td>\n",
       "      <td>Teen</td>\n",
       "    </tr>\n",
       "    <tr>\n",
       "      <th>2</th>\n",
       "      <td>1004904</td>\n",
       "      <td>male</td>\n",
       "      <td>23</td>\n",
       "      <td>Arts</td>\n",
       "      <td>Capricorn</td>\n",
       "      <td>..\\Data\\1004904.male.23.Arts.Capricorn.xml</td>\n",
       "      <td>20s</td>\n",
       "    </tr>\n",
       "    <tr>\n",
       "      <th>3</th>\n",
       "      <td>1005076</td>\n",
       "      <td>female</td>\n",
       "      <td>25</td>\n",
       "      <td>Arts</td>\n",
       "      <td>Cancer</td>\n",
       "      <td>..\\Data\\1005076.female.25.Arts.Cancer.xml</td>\n",
       "      <td>20s</td>\n",
       "    </tr>\n",
       "    <tr>\n",
       "      <th>4</th>\n",
       "      <td>1005545</td>\n",
       "      <td>male</td>\n",
       "      <td>25</td>\n",
       "      <td>Engineering</td>\n",
       "      <td>Sagittarius</td>\n",
       "      <td>..\\Data\\1005545.male.25.Engineering.Sagittariu...</td>\n",
       "      <td>20s</td>\n",
       "    </tr>\n",
       "  </tbody>\n",
       "</table>\n",
       "</div>"
      ],
      "text/plain": [
       "        id     sex  age        topic         sign  \\\n",
       "0  1000331  female   37       indUnk          Leo   \n",
       "1  1000866  female   17      Student        Libra   \n",
       "2  1004904    male   23         Arts    Capricorn   \n",
       "3  1005076  female   25         Arts       Cancer   \n",
       "4  1005545    male   25  Engineering  Sagittarius   \n",
       "\n",
       "                                            filename age_group  \n",
       "0           ..\\Data\\1000331.female.37.indUnk.Leo.xml       30+  \n",
       "1        ..\\Data\\1000866.female.17.Student.Libra.xml      Teen  \n",
       "2         ..\\Data\\1004904.male.23.Arts.Capricorn.xml       20s  \n",
       "3          ..\\Data\\1005076.female.25.Arts.Cancer.xml       20s  \n",
       "4  ..\\Data\\1005545.male.25.Engineering.Sagittariu...       20s  "
      ]
     },
     "execution_count": 62,
     "metadata": {},
     "output_type": "execute_result"
    }
   ],
   "source": [
    "df['age_group'] = df.apply(lambda row: ageGroup(row['age']), axis=1)\n",
    "df.head()"
   ]
  },
  {
   "cell_type": "code",
   "execution_count": 63,
   "metadata": {
    "collapsed": true
   },
   "outputs": [],
   "source": [
    "def sumRow(x):\n",
    "    return x['20s'] + x['30+'] + x['Teen']\n",
    "\n",
    "def getPercent(n,tot) :\n",
    "    return n/tot"
   ]
  },
  {
   "cell_type": "code",
   "execution_count": 58,
   "metadata": {
    "collapsed": false
   },
   "outputs": [
    {
     "data": {
      "text/html": [
       "<div>\n",
       "<table border=\"1\" class=\"dataframe\">\n",
       "  <thead>\n",
       "    <tr style=\"text-align: right;\">\n",
       "      <th>age_group</th>\n",
       "      <th>20s</th>\n",
       "      <th>30+</th>\n",
       "      <th>Teen</th>\n",
       "    </tr>\n",
       "    <tr>\n",
       "      <th>topic</th>\n",
       "      <th></th>\n",
       "      <th></th>\n",
       "      <th></th>\n",
       "    </tr>\n",
       "  </thead>\n",
       "  <tbody>\n",
       "    <tr>\n",
       "      <th>Accounting</th>\n",
       "      <td>74</td>\n",
       "      <td>20</td>\n",
       "      <td>11</td>\n",
       "    </tr>\n",
       "    <tr>\n",
       "      <th>Advertising</th>\n",
       "      <td>108</td>\n",
       "      <td>32</td>\n",
       "      <td>5</td>\n",
       "    </tr>\n",
       "    <tr>\n",
       "      <th>Agriculture</th>\n",
       "      <td>13</td>\n",
       "      <td>7</td>\n",
       "      <td>16</td>\n",
       "    </tr>\n",
       "    <tr>\n",
       "      <th>Architecture</th>\n",
       "      <td>46</td>\n",
       "      <td>14</td>\n",
       "      <td>9</td>\n",
       "    </tr>\n",
       "    <tr>\n",
       "      <th>Arts</th>\n",
       "      <td>361</td>\n",
       "      <td>164</td>\n",
       "      <td>196</td>\n",
       "    </tr>\n",
       "  </tbody>\n",
       "</table>\n",
       "</div>"
      ],
      "text/plain": [
       "age_group     20s  30+  Teen\n",
       "topic                       \n",
       "Accounting     74   20    11\n",
       "Advertising   108   32     5\n",
       "Agriculture    13    7    16\n",
       "Architecture   46   14     9\n",
       "Arts          361  164   196"
      ]
     },
     "execution_count": 58,
     "metadata": {},
     "output_type": "execute_result"
    }
   ],
   "source": [
    "ages = pd.crosstab(df['topic'],df['age_group'])\n",
    "ages.head()"
   ]
  },
  {
   "cell_type": "code",
   "execution_count": 59,
   "metadata": {
    "collapsed": false,
    "scrolled": true
   },
   "outputs": [
    {
     "data": {
      "text/html": [
       "<div>\n",
       "<table border=\"1\" class=\"dataframe\">\n",
       "  <thead>\n",
       "    <tr style=\"text-align: right;\">\n",
       "      <th>age_group</th>\n",
       "      <th>20s</th>\n",
       "      <th>30+</th>\n",
       "      <th>Teen</th>\n",
       "      <th>Total</th>\n",
       "    </tr>\n",
       "    <tr>\n",
       "      <th>topic</th>\n",
       "      <th></th>\n",
       "      <th></th>\n",
       "      <th></th>\n",
       "      <th></th>\n",
       "    </tr>\n",
       "  </thead>\n",
       "  <tbody>\n",
       "    <tr>\n",
       "      <th>Accounting</th>\n",
       "      <td>0.704762</td>\n",
       "      <td>0.190476</td>\n",
       "      <td>0.104762</td>\n",
       "      <td>105</td>\n",
       "    </tr>\n",
       "    <tr>\n",
       "      <th>Advertising</th>\n",
       "      <td>0.744828</td>\n",
       "      <td>0.220690</td>\n",
       "      <td>0.034483</td>\n",
       "      <td>145</td>\n",
       "    </tr>\n",
       "    <tr>\n",
       "      <th>Agriculture</th>\n",
       "      <td>0.361111</td>\n",
       "      <td>0.194444</td>\n",
       "      <td>0.444444</td>\n",
       "      <td>36</td>\n",
       "    </tr>\n",
       "    <tr>\n",
       "      <th>Architecture</th>\n",
       "      <td>0.666667</td>\n",
       "      <td>0.202899</td>\n",
       "      <td>0.130435</td>\n",
       "      <td>69</td>\n",
       "    </tr>\n",
       "    <tr>\n",
       "      <th>Arts</th>\n",
       "      <td>0.500693</td>\n",
       "      <td>0.227462</td>\n",
       "      <td>0.271845</td>\n",
       "      <td>721</td>\n",
       "    </tr>\n",
       "  </tbody>\n",
       "</table>\n",
       "</div>"
      ],
      "text/plain": [
       "age_group          20s       30+      Teen  Total\n",
       "topic                                            \n",
       "Accounting    0.704762  0.190476  0.104762    105\n",
       "Advertising   0.744828  0.220690  0.034483    145\n",
       "Agriculture   0.361111  0.194444  0.444444     36\n",
       "Architecture  0.666667  0.202899  0.130435     69\n",
       "Arts          0.500693  0.227462  0.271845    721"
      ]
     },
     "execution_count": 59,
     "metadata": {},
     "output_type": "execute_result"
    }
   ],
   "source": [
    "ages['Total'] = ages.apply(lambda row: sumRow(row), axis=1)\n",
    "ages['20s'] = ages.apply(lambda row: getPercent(row['20s'],row['Total']), axis = 1)\n",
    "ages['30+'] = ages.apply(lambda row: getPercent(row['30+'],row['Total']), axis = 1)\n",
    "ages['Teen'] = ages.apply(lambda row: getPercent(row['Teen'],row['Total']), axis = 1)\n",
    "ages.head()"
   ]
  },
  {
   "cell_type": "code",
   "execution_count": 57,
   "metadata": {
    "collapsed": false
   },
   "outputs": [
    {
     "data": {
      "image/png": "[encoded data removed]",
      "text/plain": [
       "<matplotlib.figure.Figure at 0x22627f56ba8>"
      ]
     },
     "metadata": {},
     "output_type": "display_data"
    }
   ],
   "source": [
    "ages[['Teen','20s','30+']].plot(kind='bar',figsize=(20,10))\n",
    "plt.show()"
   ]
  }
 ],
 "metadata": {
  "kernelspec": {
   "display_name": "Python 3",
   "language": "python",
   "name": "python3"
  },
  "language_info": {
   "codemirror_mode": {
    "name": "ipython",
    "version": 3
   },
   "file_extension": ".py",
   "mimetype": "text/x-python",
   "name": "python",
   "nbconvert_exporter": "python",
   "pygments_lexer": "ipython3",
   "version": "3.6.0"
  }
 },
 "nbformat": 4,
 "nbformat_minor": 2
}
