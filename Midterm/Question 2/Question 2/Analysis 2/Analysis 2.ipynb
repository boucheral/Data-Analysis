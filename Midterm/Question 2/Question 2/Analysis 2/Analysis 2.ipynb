{
 "cells": [
  {
   "cell_type": "code",
   "execution_count": null,
   "metadata": {
    "collapsed": false
   },
   "outputs": [],
   "source": [
    "import glob\n",
    "import os\n",
    "import json\n",
    "from nltk.corpus import stopwords\n",
    "from nltk.tokenize import word_tokenize\n",
    "from collections import Counter"
   ]
  },
  {
   "cell_type": "code",
   "execution_count": null,
   "metadata": {
    "collapsed": false
   },
   "outputs": [],
   "source": [
    "loc = '../../Data/NYT\\\\'\n",
    "\n",
    "names = glob.glob('../../Data/NYT/*')\n",
    "\n",
    "headlines = {}\n",
    "\n",
    "for name in names :\n",
    "    section = name[15:]\n",
    "    \n",
    "    l = getHeadlines(name)\n",
    "    \n",
    "    headlines[section] = Counter(l)\n",
    "    \n",
    "headlines"
   ]
  },
  {
   "cell_type": "code",
   "execution_count": null,
   "metadata": {
    "collapsed": true
   },
   "outputs": [],
   "source": [
    "def getHeadlines(path) :\n",
    "    h = ''\n",
    "    names = glob.glob(path + '/*')\n",
    "    \n",
    "    for name in names :\n",
    "        with open(name, 'r') as file :\n",
    "            data = json.load(file)\n",
    "            \n",
    "        if data :\n",
    "            h = h + data.get('title', '')\n",
    "            \n",
    "    return clean(h)"
   ]
  },
  {
   "cell_type": "code",
   "execution_count": null,
   "metadata": {
    "collapsed": false,
    "scrolled": true
   },
   "outputs": [],
   "source": [
    "def clean(s) :\n",
    "    tokens = word_tokenize(s)\n",
    "    p1 = re.compile('[^A-Za-z]+')\n",
    "    l = [x.lower() for x in tokens if x.lower() not in set(stopwords.words('english'))\n",
    "                                   if not p1.match(x)]\n",
    "    return l\n",
    "\n"
   ]
  },
  {
   "cell_type": "code",
   "execution_count": null,
   "metadata": {
    "collapsed": false
   },
   "outputs": [],
   "source": [
    "for k,v in headlines :\n",
    "    print('Most common in',k)\n",
    "    print('-------------')\n",
    "    for x,y in v.most_common(50) :\n",
    "        print(x, ':', y)"
   ]
  }
 ],
 "metadata": {
  "kernelspec": {
   "display_name": "Python 3",
   "language": "python",
   "name": "python3"
  },
  "language_info": {
   "codemirror_mode": {
    "name": "ipython",
    "version": 3
   },
   "file_extension": ".py",
   "mimetype": "text/x-python",
   "name": "python",
   "nbconvert_exporter": "python",
   "pygments_lexer": "ipython3",
   "version": "3.6.0"
  }
 },
 "nbformat": 4,
 "nbformat_minor": 2
}
