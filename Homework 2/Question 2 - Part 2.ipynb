{
 "cells": [
  {
   "cell_type": "markdown",
   "metadata": {},
   "source": [
    "# Question 2 - Part 2"
   ]
  },
  {
   "cell_type": "markdown",
   "metadata": {},
   "source": [
    "** Read all the json files in the folder called Data**\n",
    "* **Read only the json files which contain the key called “restaurants” **\n",
    "* **Each (or most of the json files) contain a key called “open” which contains the details of the operation (timings) restaurants.  **\n",
    "* **Extract the data and write it to an excel sheet**"
   ]
  },
  {
   "cell_type": "code",
   "execution_count": 1,
   "metadata": {
    "collapsed": true
   },
   "outputs": [],
   "source": [
    "import csv\n",
    "import glob\n",
    "import json"
   ]
  },
  {
   "cell_type": "code",
   "execution_count": 2,
   "metadata": {
    "collapsed": false,
    "scrolled": true
   },
   "outputs": [],
   "source": [
    "names = glob.glob(\"data/*\")\n",
    "rows = [['Name of Restaurant', 'City', 'Country Code', 'Day of the Week', 'Start Time - Hours', 'Start Time - Min', 'End Time - Min', 'End Time - Min']]\n",
    "\n",
    "for name in names :\n",
    "\n",
    "    data = open(name).read()\n",
    "    data = json.loads(data, encoding=\"\")\n",
    "    \n",
    "    if (data['term'] != \"restaurants\") :\n",
    "        continue\n",
    "\n",
    "    address = data['location']\n",
    "    if 'hours' in data.keys() :\n",
    "        d = data['hours'][0]['open']\n",
    "    else :\n",
    "        d = []\n",
    "    \n",
    "    days = {}\n",
    "    for day in d :\n",
    "        days[day['day']] = {'start' : day['start'], 'end' : day['end']}\n",
    "    \n",
    "    for n in [0,1,2,3,4,5,6] :\n",
    "        times = days.setdefault(n, {'start' : '0000', 'end' : '0000'})\n",
    "        row = [data['name'], address['city'], address['country'], n, times['start'][:2], times['start'][2:], times['end'][:2], times['end'][2:]]\n",
    "        rows.append(row)\n",
    "    \n"
   ]
  },
  {
   "cell_type": "code",
   "execution_count": 4,
   "metadata": {
    "collapsed": false
   },
   "outputs": [],
   "source": [
    "f = open('timesheet.csv', 'w+', encoding=\"UTF-8\")\n",
    "try:\n",
    "    writer = csv.writer(f)\n",
    "    writer.writerows(rows)\n",
    "finally:\n",
    "    f.close()"
   ]
  }
 ],
 "metadata": {
  "kernelspec": {
   "display_name": "Python 3",
   "language": "python",
   "name": "python3"
  },
  "language_info": {
   "codemirror_mode": {
    "name": "ipython",
    "version": 3
   },
   "file_extension": ".py",
   "mimetype": "text/x-python",
   "name": "python",
   "nbconvert_exporter": "python",
   "pygments_lexer": "ipython3",
   "version": "3.6.0"
  }
 },
 "nbformat": 4,
 "nbformat_minor": 2
}
