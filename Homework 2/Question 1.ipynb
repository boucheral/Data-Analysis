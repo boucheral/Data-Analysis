{
 "cells": [
  {
   "cell_type": "markdown",
   "metadata": {},
   "source": [
    "# Question 1#"
   ]
  },
  {
   "cell_type": "markdown",
   "metadata": {},
   "source": [
    "* **Learn and understand Zipf’s Law.** \n",
    "* **Pick any file (or files) in NLTK package. **\n",
    "* **Prove if Zipf’s Law works in Natural Language or not. **"
   ]
  },
  {
   "cell_type": "code",
   "execution_count": 6,
   "metadata": {
    "collapsed": false
   },
   "outputs": [],
   "source": [
    "import glob\n",
    "import nltk\n",
    "import collections\n",
    "import string\n",
    "from nltk.corpus import gutenberg"
   ]
  },
  {
   "cell_type": "code",
   "execution_count": 7,
   "metadata": {
    "collapsed": false
   },
   "outputs": [
    {
     "name": "stdout",
     "output_type": "stream",
     "text": [
      "[('the', 133583), ('and', 95442), ('of', 71267), ('to', 48057), ('a', 33960), ('in', 33580), ('i', 30265), ('that', 28798), ('he', 25857), ('it', 22303)]\n"
     ]
    }
   ],
   "source": [
    "wordCounter = collections.Counter()\n",
    "\n",
    "for name in gutenberg.fileids() :\n",
    "    words = gutenberg.words(name)\n",
    "    l = []\n",
    "    for word in words :\n",
    "        if word in set(string.punctuation) :\n",
    "            continue\n",
    "        l.append(word.lower())\n",
    "    \n",
    "    words = collections.Counter(l)\n",
    "    wordCounter = wordCounter + words\n",
    "    \n",
    "print (wordCounter.most_common(10))"
   ]
  },
  {
   "cell_type": "code",
   "execution_count": 8,
   "metadata": {
    "collapsed": false,
    "scrolled": true
   },
   "outputs": [
    {
     "data": {
      "text/plain": [
       "2226513"
      ]
     },
     "execution_count": 8,
     "metadata": {},
     "output_type": "execute_result"
    }
   ],
   "source": [
    "total = sum(wordCounter.values())\n",
    "total"
   ]
  },
  {
   "cell_type": "code",
   "execution_count": 13,
   "metadata": {
    "collapsed": false,
    "scrolled": true
   },
   "outputs": [
    {
     "data": {
      "text/plain": [
       "[['Word', 'Rank', 'Frequency'],\n",
       " ['the', 1, 133583],\n",
       " ['and', 2, 95442],\n",
       " ['of', 3, 71267],\n",
       " ['to', 4, 48057],\n",
       " ['a', 5, 33960],\n",
       " ['in', 6, 33580],\n",
       " ['i', 7, 30265],\n",
       " ['that', 8, 28798],\n",
       " ['he', 9, 25857]]"
      ]
     },
     "execution_count": 13,
     "metadata": {},
     "output_type": "execute_result"
    }
   ],
   "source": [
    "rows = [['Word', 'Rank', 'Frequency']]\n",
    "rank = 1\n",
    "for word,frequency in wordCounter.most_common() :\n",
    "    row = [word, rank, frequency]\n",
    "    rows.append(row)\n",
    "    rank = rank + 1\n",
    "    \n",
    "rows[:10]"
   ]
  },
  {
   "cell_type": "code",
   "execution_count": 15,
   "metadata": {
    "collapsed": true
   },
   "outputs": [],
   "source": [
    "import csv\n",
    "\n",
    "f = open('ZipfsLaw.csv', 'w+')\n",
    "try:\n",
    "    writer = csv.writer(f)\n",
    "    writer.writerows(rows)\n",
    "finally:\n",
    "    f.close()"
   ]
  },
  {
   "cell_type": "code",
   "execution_count": 10,
   "metadata": {
    "collapsed": false,
    "scrolled": true
   },
   "outputs": [
    {
     "data": {
      "text/plain": [
       "[{'A': 0.05999650574687864, 'Prob': 0.05999650574687864, 'r': 1},\n",
       " {'A': 0.08573226385832915, 'Prob': 0.04286613192916457, 'r': 2},\n",
       " {'A': 0.09602504005141672, 'Prob': 0.032008346683805575, 'r': 3},\n",
       " {'A': 0.08633589833070815, 'Prob': 0.021583974582677037, 'r': 4},\n",
       " {'A': 0.07626274807288347, 'Prob': 0.015252549614576694, 'r': 5},\n",
       " {'A': 0.09049127492181722, 'Prob': 0.015081879153636202, 'r': 6},\n",
       " {'A': 0.09515102763828462, 'Prob': 0.013593003948326373, 'r': 7},\n",
       " {'A': 0.10347300914030146, 'Prob': 0.012934126142537682, 'r': 8},\n",
       " {'A': 0.1045190394127499, 'Prob': 0.011613226601416655, 'r': 9},\n",
       " {'A': 0.10017008658831096, 'Prob': 0.010017008658831096, 'r': 10}]"
      ]
     },
     "execution_count": 10,
     "metadata": {},
     "output_type": "execute_result"
    }
   ],
   "source": [
    "import csv\n",
    "\n",
    "c = []\n",
    "\n",
    "f = open('ZipfsLaw.csv', 'r')\n",
    "try:\n",
    "    reader = csv.DictReader(f)\n",
    "    for row in reader :\n",
    "        d = {}\n",
    "        d['r'] = int(row['Rank'])\n",
    "        d['Prob'] = int(row['Frequency'])/total\n",
    "        d['A'] = d['r'] * d['Prob']\n",
    "        c.append(d)\n",
    "    \n",
    "finally:\n",
    "    f.close()\n",
    "    \n",
    "c[:10]"
   ]
  },
  {
   "cell_type": "code",
   "execution_count": 11,
   "metadata": {
    "collapsed": true
   },
   "outputs": [],
   "source": [
    "import math\n",
    "\n",
    "def stdev(l, n, mean) :\n",
    "    t = 0\n",
    "    diffSquared = lambda x,y : (x - y)**2\n",
    "    for x in l :\n",
    "        t = t + diffSquared(x,mean)\n",
    "    \n",
    "    return math.sqrt((1/(n - 1))*t)"
   ]
  },
  {
   "cell_type": "code",
   "execution_count": 12,
   "metadata": {
    "collapsed": false
   },
   "outputs": [
    {
     "name": "stdout",
     "output_type": "stream",
     "text": [
      "1406.5520497746952\n",
      "[0.05999650574687864, 0.08573226385832915, 0.09602504005141672, 0.08633589833070815, 0.07626274807288347, 0.09049127492181722, 0.09515102763828462, 0.10347300914030146, 0.1045190394127499, 0.10017008658831096]\n"
     ]
    }
   ],
   "source": [
    "sumA = 0\n",
    "A = []\n",
    "for row in c :\n",
    "    sumA = sumA + row['A']\n",
    "    A.append(row['A'])\n",
    "    \n",
    "print(sumA)\n",
    "print(A[:10])"
   ]
  },
  {
   "cell_type": "code",
   "execution_count": 15,
   "metadata": {
    "collapsed": false,
    "scrolled": true
   },
   "outputs": [
    {
     "name": "stdout",
     "output_type": "stream",
     "text": [
      "Average A : 0.033240819817901765\n",
      "Range : 0.012074485978747935 - 0.15674375132774881\n",
      "Standard Deviation : 0.0031122061972156207\n"
     ]
    }
   ],
   "source": [
    "averageA = sumA / len(A)\n",
    "\n",
    "print('Average A :', averageA)\n",
    "\n",
    "sd = stdev(A, total, averageA)\n",
    "\n",
    "print('Range :', min(A), '-', max(A))\n",
    "\n",
    "print('Standard Deviation :', sd)"
   ]
  },
  {
   "cell_type": "code",
   "execution_count": 17,
   "metadata": {
    "collapsed": false
   },
   "outputs": [],
   "source": [
    "import matplotlib.pyplot as plt\n",
    "\n",
    "logr = [ math.log(x['r']) for x in c ]\n",
    "logp = [ math.log(x['Prob']) for x in c ]\n"
   ]
  },
  {
   "cell_type": "code",
   "execution_count": 24,
   "metadata": {
    "collapsed": false
   },
   "outputs": [
    {
     "name": "stdout",
     "output_type": "stream",
     "text": [
      "Pearson Correlation Coefficient : (-0.98817556366538384, 0.0)\n"
     ]
    }
   ],
   "source": [
    "from scipy.stats.stats import pearsonr\n",
    "\n",
    "r = pearsonr(logr, logp)\n",
    "\n",
    "print(\"Pearson Correlation Coefficient :\", r)"
   ]
  },
  {
   "cell_type": "code",
   "execution_count": 23,
   "metadata": {
    "collapsed": false,
    "scrolled": true
   },
   "outputs": [
    {
     "data": {
      "image/png": "[encoded data removed]",
      "text/plain": [
       "<matplotlib.figure.Figure at 0x21e0042dcc0>"
      ]
     },
     "metadata": {},
     "output_type": "display_data"
    }
   ],
   "source": [
    "plt.plot(logr, logp, 'bo', logr, [(-1 * x) - 2.7 for x in logr], 'r--')\n",
    "plt.show()"
   ]
  },
  {
   "cell_type": "code",
   "execution_count": 25,
   "metadata": {
    "collapsed": false,
    "scrolled": true
   },
   "outputs": [
    {
     "name": "stdout",
     "output_type": "stream",
     "text": [
      "Help on function pearsonr in module scipy.stats.stats:\n",
      "\n",
      "pearsonr(x, y)\n",
      "    Calculates a Pearson correlation coefficient and the p-value for testing\n",
      "    non-correlation.\n",
      "    \n",
      "    The Pearson correlation coefficient measures the linear relationship\n",
      "    between two datasets. Strictly speaking, Pearson's correlation requires\n",
      "    that each dataset be normally distributed, and not necessarily zero-mean.\n",
      "    Like other correlation coefficients, this one varies between -1 and +1\n",
      "    with 0 implying no correlation. Correlations of -1 or +1 imply an exact\n",
      "    linear relationship. Positive correlations imply that as x increases, so\n",
      "    does y. Negative correlations imply that as x increases, y decreases.\n",
      "    \n",
      "    The p-value roughly indicates the probability of an uncorrelated system\n",
      "    producing datasets that have a Pearson correlation at least as extreme\n",
      "    as the one computed from these datasets. The p-values are not entirely\n",
      "    reliable but are probably reasonable for datasets larger than 500 or so.\n",
      "    \n",
      "    Parameters\n",
      "    ----------\n",
      "    x : (N,) array_like\n",
      "        Input\n",
      "    y : (N,) array_like\n",
      "        Input\n",
      "    \n",
      "    Returns\n",
      "    -------\n",
      "    r : float\n",
      "        Pearson's correlation coefficient\n",
      "    p-value : float\n",
      "        2-tailed p-value\n",
      "    \n",
      "    References\n",
      "    ----------\n",
      "    http://www.statsoft.com/textbook/glosp.html#Pearson%20Correlation\n",
      "\n"
     ]
    }
   ],
   "source": [
    "from pydoc import help\n",
    "help(pearsonr)"
   ]
  },
  {
   "cell_type": "markdown",
   "metadata": {},
   "source": [
    "## Conclusion\n",
    "The Correlation coefficient is -0.98817556366538384. This means that there is an almost linear negative correlation between log(r) and log(Prob(r)). This along with the graph demonstrates that Zipf's Law seems to hold true"
   ]
  }
 ],
 "metadata": {
  "kernelspec": {
   "display_name": "Python 3",
   "language": "python",
   "name": "python3"
  },
  "language_info": {
   "codemirror_mode": {
    "name": "ipython",
    "version": 3
   },
   "file_extension": ".py",
   "mimetype": "text/x-python",
   "name": "python",
   "nbconvert_exporter": "python",
   "pygments_lexer": "ipython3",
   "version": "3.6.0"
  }
 },
 "nbformat": 4,
 "nbformat_minor": 2
}
