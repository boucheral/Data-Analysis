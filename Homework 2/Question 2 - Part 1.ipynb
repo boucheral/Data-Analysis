{
 "cells": [
  {
   "cell_type": "markdown",
   "metadata": {},
   "source": [
    "# Question 2 - Part 1"
   ]
  },
  {
   "cell_type": "markdown",
   "metadata": {},
   "source": [
    "* ** Read all the json files in the folder called Data**\n",
    "* ** There are three categories of json files in the folder. They are identified by the key called \"term\" in each of the json files**\n",
    "* ** Create a folder structure to read all these json files and store them into the seperate folders. You are expected to create a hierarchy of folder structure**"
   ]
  },
  {
   "cell_type": "code",
   "execution_count": 141,
   "metadata": {
    "collapsed": true
   },
   "outputs": [],
   "source": [
    "import json\n",
    "import glob\n",
    "home = ''.join(os.path.abspath(sys.path[0]))"
   ]
  },
  {
   "cell_type": "code",
   "execution_count": 79,
   "metadata": {
    "collapsed": false
   },
   "outputs": [
    {
     "data": {
      "text/plain": [
       "{'AU': {'ACT': {'Belconnen': {'restaurants': ['data\\\\2-yummy-belconnen.json']},\n",
       "   'Braddon': {'restaurants': ['data\\\\10-custom-pizzeria-braddon.json']}},\n",
       "  'NSW': {'Sydney': {'restaurants': ['data\\\\1-abercrombie-lane-sydney.json',\n",
       "     'data\\\\1912-dining-bar-sydney.json']}},\n",
       "  'QLD': {'Brisbane': {'restaurants': ['data\\\\127-bar-and-bistro-brisbane.json']}},\n",
       "  'SA': {'Adelaide': {'hotels': ['data\\\\109-adelaide.json']}},\n",
       "  'VIC': {'Melbourne': {'restaurants': ['data\\\\11-inch-pizza-melbourne.json',\n",
       "     'data\\\\1806-melbourne.json']}},\n",
       "  'WA': {'Perth': {'restaurants': ['data\\\\140-perth-perth.json',\n",
       "     'data\\\\1907-restaurant-perth.json']}}},\n",
       " 'GB': {'GLG': {'Glasgow': {'restaurants': ['data\\\\111-by-nico-glasgow-2.json',\n",
       "     'data\\\\13th-note-glasgow.json']}},\n",
       "  'XGL': {'London': {'attractions': ['data\\\\10-downing-street-london.json',\n",
       "     'data\\\\100-club-london.json'],\n",
       "    'restaurants': ['data\\\\10-greek-street-london.json',\n",
       "     'data\\\\100-hoxton-london.json']}}},\n",
       " 'NZ': {'AUK': {'Auckland': {'hotels': ['data\\\\2-day-snow-weekender-at-mt-ruapehu-auckland.json']}}},\n",
       " 'US': {'AZ': {'Phoenix': {'restaurants': ['data\\\\13-north-grille-phoenix.json']}},\n",
       "  'CA': {'San Francisco': {'restaurants': ['data\\\\1428-haight-patio-cafe-and-crepery-san-francisco.json',\n",
       "     'data\\\\1760-san-francisco.json']},\n",
       "   'San Jose': {'attractions': ['data\\\\143-photo-booths-san-jose.json'],\n",
       "    'restaurants': ['data\\\\1-chinese-kitchen-san-jose-2.json']}},\n",
       "  'CO': {'Denver': {'restaurants': ['data\\\\100-de-agave-denver.json']}},\n",
       "  'DC': {'Washington': {'restaurants': ['data\\\\2-amys-neapolitan-pizzeria-washington.json']}},\n",
       "  'MA': {'Boston': {'restaurants': ['data\\\\163-vietnamese-sandwiches-and-bubble-tea-boston.json']}},\n",
       "  'MI': {'Detroit': {'restaurants': ['data\\\\1917-american-bistro-detroit.json']}},\n",
       "  'NV': {'Las Vegas': {'attractions': ['data\\\\18b-the-las-vegas-art-distirct-las-vegas.json']}},\n",
       "  'TX': {'Houston': {'attractions': ['data\\\\1st-class-training-tanglewood-houston-2.json'],\n",
       "    'restaurants': ['data\\\\1-chicken-rice-and-seafood-houston.json']}},\n",
       "  'WA': {'Seattle': {'attractions': ['data\\\\1st-avenue-apartment-by-stay-alfred-seattle.json']}}}}"
      ]
     },
     "execution_count": 79,
     "metadata": {},
     "output_type": "execute_result"
    }
   ],
   "source": [
    "os.chdir(home)\n",
    "names = glob.glob(\"data/*\")\n",
    "\n",
    "location = {}\n",
    "\n",
    "for name in names[:30] :\n",
    "    data = open(name).read()\n",
    "    data = json.loads(data)\n",
    "    address = data[\"location\"]\n",
    "    country = location.setdefault(address[\"country\"], {})\n",
    "    state = country.setdefault(address[\"state\"], {})\n",
    "    city = state.setdefault(address[\"city\"], {})\n",
    "    term = city.setdefault(data[\"term\"], [])\n",
    "    term.append(name)\n",
    "    \n",
    "location\n"
   ]
  },
  {
   "cell_type": "code",
   "execution_count": 147,
   "metadata": {
    "collapsed": false
   },
   "outputs": [
    {
     "data": {
      "text/plain": [
       "{'file': 'new-zealand', 'name': 'New Zealand'}"
      ]
     },
     "execution_count": 147,
     "metadata": {},
     "output_type": "execute_result"
    }
   ],
   "source": [
    "country = open(home + '/countries.json').read()\n",
    "country = json.loads(country)\n",
    "\n",
    "countryCodes = {}\n",
    "\n",
    "for c in country :\n",
    "    countryCodes[c['code']] = {'name' : c['name'], 'file' : c.get('filename', \"\")}\n",
    "\n",
    "countryCodes['NZ']"
   ]
  },
  {
   "cell_type": "code",
   "execution_count": 185,
   "metadata": {
    "collapsed": false
   },
   "outputs": [],
   "source": [
    "def countrystate(address) :\n",
    "    a = {'city' : address['city']}\n",
    "    if (not a['city']) :\n",
    "        a['city'] = 'None'\n",
    "    cc = countryCodes[address['country']]\n",
    "    a['country'] = cc['name']\n",
    "    \n",
    "    sfilename = home + '/countries/' + cc['file'] + '.json'\n",
    "    states = open(sfilename, encoding=\"utf8\").read()\n",
    "    states = json.loads(states)\n",
    "    \n",
    "    for state in states :\n",
    "        if (state['code'].endswith(address['state'])) :\n",
    "            a['state'] = state['name']\n",
    "    \n",
    "    a.setdefault('country', address['country'])\n",
    "    a.setdefault('state', address['state'])\n",
    "    \n",
    "    return a\n",
    "    "
   ]
  },
  {
   "cell_type": "code",
   "execution_count": 186,
   "metadata": {
    "collapsed": true
   },
   "outputs": [],
   "source": [
    "os.chdir(home)"
   ]
  },
  {
   "cell_type": "code",
   "execution_count": 187,
   "metadata": {
    "collapsed": false,
    "scrolled": false
   },
   "outputs": [],
   "source": [
    "os.chdir(home)\n",
    "names = glob.glob(\"data/*\")\n",
    "\n",
    "\n",
    "os.mkdir(\"Data Processed\")\n",
    "\n",
    "for name in names :\n",
    "\n",
    "    data = open(home + '/' + name).read()\n",
    "    data = json.loads(data)\n",
    "    \n",
    "    address = data[\"location\"]\n",
    "    address = countrystate(address)\n",
    "    term = data[\"term\"]\n",
    "    \n",
    "    os.chdir(\"Data Processed\")\n",
    "    \n",
    "    if (not os.path.exists(address['country'])) :\n",
    "        os.mkdir(address['country'])\n",
    "        \n",
    "    os.chdir(address['country'])\n",
    "    \n",
    "    if (not os.path.exists(address['state'])) :\n",
    "        os.mkdir(address['state'])\n",
    "        \n",
    "    os.chdir(address['state'])\n",
    "    \n",
    "    if (not os.path.exists(address['city'])) :\n",
    "        os.mkdir(address['city'])\n",
    "    \n",
    "    os.chdir(address['city'])\n",
    "    \n",
    "    if (not os.path.exists(term)) :\n",
    "        os.mkdir(term)\n",
    "        \n",
    "    os.chdir(term)\n",
    "    \n",
    "    filename = name[5:]\n",
    "    with open(filename, 'w') as outfile:\n",
    "        json.dump(data, outfile)\n",
    "    \n",
    "    os.chdir(home)"
   ]
  }
 ],
 "metadata": {
  "kernelspec": {
   "display_name": "Python 3",
   "language": "python",
   "name": "python3"
  },
  "language_info": {
   "codemirror_mode": {
    "name": "ipython",
    "version": 3
   },
   "file_extension": ".py",
   "mimetype": "text/x-python",
   "name": "python",
   "nbconvert_exporter": "python",
   "pygments_lexer": "ipython3",
   "version": "3.6.0"
  }
 },
 "nbformat": 4,
 "nbformat_minor": 2
}
