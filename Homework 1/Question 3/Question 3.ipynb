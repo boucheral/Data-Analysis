{
 "cells": [
  {
   "cell_type": "markdown",
   "metadata": {},
   "source": [
    "# Question 3"
   ]
  },
  {
   "cell_type": "markdown",
   "metadata": {},
   "source": [
    "* **Under package Webtext, see what files are in it**"
   ]
  },
  {
   "cell_type": "code",
   "execution_count": 1,
   "metadata": {
    "collapsed": false,
    "scrolled": true
   },
   "outputs": [
    {
     "name": "stdout",
     "output_type": "stream",
     "text": [
      "firefox.txt\n",
      "grail.txt\n",
      "overheard.txt\n",
      "pirates.txt\n",
      "singles.txt\n",
      "wine.txt\n"
     ]
    }
   ],
   "source": [
    "import nltk\n",
    "for c in nltk.corpus.webtext.fileids() :\n",
    "    print(c)"
   ]
  },
  {
   "cell_type": "markdown",
   "metadata": {},
   "source": [
    "* **Get content in file 'pirates.txt'.**"
   ]
  },
  {
   "cell_type": "code",
   "execution_count": 13,
   "metadata": {
    "collapsed": false
   },
   "outputs": [
    {
     "name": "stdout",
     "output_type": "stream",
     "text": [
      "Jack was the leading man\n",
      "Will : 133\n",
      "Jack : 193\n"
     ]
    }
   ],
   "source": [
    "#Get raw text and split it on \\n\n",
    "pirates = nltk.corpus.webtext.raw('pirates.txt')\n",
    "p = pirates.split('\\n')\n",
    "will = 0\n",
    "jack = 0\n",
    "\n",
    "#Count occurences of WILL TURNER: and JACK SPARROW:\n",
    "for x in p :\n",
    "    if x.startswith(\"JACK SPARROW:\") :\n",
    "        jack = jack + 1\n",
    "    if x.startswith(\"WILL TURNER:\") :\n",
    "        will = will + 1\n",
    "\n",
    "if (will > jack) :\n",
    "    print(\"Will was the leading man\")\n",
    "else :\n",
    "    print(\"Jack was the leading man\")\n",
    "    \n",
    "print(\"Will :\", will)\n",
    "print(\"Jack :\", jack)"
   ]
  }
 ],
 "metadata": {
  "kernelspec": {
   "display_name": "Python 3",
   "language": "python",
   "name": "python3"
  },
  "language_info": {
   "codemirror_mode": {
    "name": "ipython",
    "version": 3
   },
   "file_extension": ".py",
   "mimetype": "text/x-python",
   "name": "python",
   "nbconvert_exporter": "python",
   "pygments_lexer": "ipython3",
   "version": "3.6.0"
  }
 },
 "nbformat": 4,
 "nbformat_minor": 2
}
