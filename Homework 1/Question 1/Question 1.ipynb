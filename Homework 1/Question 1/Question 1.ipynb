{
 "cells": [
  {
   "cell_type": "markdown",
   "metadata": {},
   "source": [
    "# Question 1"
   ]
  },
  {
   "cell_type": "markdown",
   "metadata": {},
   "source": [
    "* **Under Package Gutenberg, see what files are in it**"
   ]
  },
  {
   "cell_type": "code",
   "execution_count": 2,
   "metadata": {
    "collapsed": false
   },
   "outputs": [
    {
     "name": "stdout",
     "output_type": "stream",
     "text": [
      "austen-emma.txt\n",
      "austen-persuasion.txt\n",
      "austen-sense.txt\n",
      "bible-kjv.txt\n",
      "blake-poems.txt\n",
      "bryant-stories.txt\n",
      "burgess-busterbrown.txt\n",
      "carroll-alice.txt\n",
      "chesterton-ball.txt\n",
      "chesterton-brown.txt\n",
      "chesterton-thursday.txt\n",
      "edgeworth-parents.txt\n",
      "melville-moby_dick.txt\n",
      "milton-paradise.txt\n",
      "shakespeare-caesar.txt\n",
      "shakespeare-hamlet.txt\n",
      "shakespeare-macbeth.txt\n",
      "whitman-leaves.txt\n"
     ]
    }
   ],
   "source": [
    "import nltk\n",
    "## Call the Gutenberg corpus and read all the file names\n",
    "for c in nltk.corpus.gutenberg.fileids() :\n",
    "    print(c)"
   ]
  },
  {
   "cell_type": "markdown",
   "metadata": {},
   "source": [
    "* **Find out how many words and how many unique words in file 'austen-persuasion.txt'**"
   ]
  },
  {
   "cell_type": "code",
   "execution_count": 35,
   "metadata": {
    "collapsed": false
   },
   "outputs": [
    {
     "name": "stdout",
     "output_type": "stream",
     "text": [
      "Number of words in Persuasion :  85136\n",
      "Number of unique words in Persuasion :  5820\n"
     ]
    }
   ],
   "source": [
    "import string\n",
    "#Import text\n",
    "austen = nltk.corpus.gutenberg.words('austen-persuasion.txt')\n",
    "\n",
    "#remove punctuation and make all words lowercase\n",
    "l = []\n",
    "for x in austen :\n",
    "    if x in set(string.punctuation) :\n",
    "        continue\n",
    "    l.append(x.lower())\n",
    "\n",
    "print(\"Number of words in Persuasion : \", len(l))\n",
    "\n",
    "unique = set(l)\n",
    "\n",
    "print(\"Number of unique words in Persuasion : \", len(unique))"
   ]
  },
  {
   "cell_type": "markdown",
   "metadata": {},
   "source": [
    "* **Calculate the frequency for each words and show the top 10 most frequent words and their frequency**"
   ]
  },
  {
   "cell_type": "code",
   "execution_count": 55,
   "metadata": {
    "collapsed": false
   },
   "outputs": [
    {
     "name": "stdout",
     "output_type": "stream",
     "text": [
      "10 most common words\n",
      "--------------------\n",
      "the : 3329\n",
      "to : 2808\n",
      "and : 2801\n",
      "of : 2570\n",
      "a : 1595\n",
      "in : 1389\n",
      "was : 1337\n",
      "her : 1204\n",
      "had : 1186\n",
      "she : 1146\n"
     ]
    }
   ],
   "source": [
    "d = {}\n",
    "\n",
    "## Make dictionary with words and keys and add 1 to value each time you come across that word\n",
    "for x in l :\n",
    "    d[x] = d.get(x, 0) + 1\n",
    "\n",
    "## Invert dictionary so the key is the number of occurances and v is a list of words that appear that many times\n",
    "d2 = {}\n",
    "for k, v in d.items() :\n",
    "    words = d2.setdefault(v, [])\n",
    "    words.append(k)\n",
    "    \n",
    "##Get all the keys and sort them high to low\n",
    "n = list(d2.keys())\n",
    "n.sort()\n",
    "n.reverse()\n",
    "\n",
    "## Print all words that \n",
    "print('10 most common words')\n",
    "print('--------------------')\n",
    "for x in n[:10] :\n",
    "    for w in d2[x] :\n",
    "        print(w, ':', x)"
   ]
  }
 ],
 "metadata": {
  "kernelspec": {
   "display_name": "Python 3",
   "language": "python",
   "name": "python3"
  },
  "language_info": {
   "codemirror_mode": {
    "name": "ipython",
    "version": 3
   },
   "file_extension": ".py",
   "mimetype": "text/x-python",
   "name": "python",
   "nbconvert_exporter": "python",
   "pygments_lexer": "ipython3",
   "version": "3.6.0"
  }
 },
 "nbformat": 4,
 "nbformat_minor": 2
}
