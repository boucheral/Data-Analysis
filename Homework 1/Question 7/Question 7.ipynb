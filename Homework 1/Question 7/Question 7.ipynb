{
 "cells": [
  {
   "cell_type": "markdown",
   "metadata": {},
   "source": [
    "# Question 7"
   ]
  },
  {
   "cell_type": "markdown",
   "metadata": {},
   "source": [
    "* **Use Name corpus, calculate the probability of a name being of a male or female base on the last character(s) of name**\n",
    "* **Output must come with proper title (e.g. [a] male: 25%, female: 60%)**"
   ]
  },
  {
   "cell_type": "code",
   "execution_count": 2,
   "metadata": {
    "collapsed": false,
    "scrolled": true
   },
   "outputs": [
    {
     "name": "stdout",
     "output_type": "stream",
     "text": [
      "a - male : 2% female : 98%\n",
      "b - male : 70% female : 30%\n",
      "c - male : 100% female : 0%\n",
      "d - male : 85% female : 15%\n",
      "e - male : 25% female : 75%\n",
      "f - male : 93% female : 7%\n",
      "g - male : 76% female : 24%\n",
      "h - male : 47% female : 53%\n",
      "i - male : 14% female : 86%\n",
      "j - male : 75% female : 25%\n",
      "k - male : 96% female : 4%\n",
      "l - male : 51% female : 49%\n",
      "m - male : 84% female : 16%\n",
      "n - male : 55% female : 45%\n",
      "o - male : 83% female : 17%\n",
      "p - male : 90% female : 10%\n",
      "q - male : 0% female : 0%\n",
      "r - male : 80% female : 20%\n",
      "s - male : 71% female : 29%\n",
      "t - male : 71% female : 29%\n",
      "u - male : 67% female : 33%\n",
      "v - male : 89% female : 11%\n",
      "w - male : 77% female : 23%\n",
      "x - male : 50% female : 50%\n",
      "y - male : 42% female : 58%\n",
      "z - male : 73% female : 27%\n"
     ]
    }
   ],
   "source": [
    "import nltk\n",
    "import collections\n",
    "import string\n",
    "from nltk.corpus import names\n",
    "from collections import Counter\n",
    "\n",
    "#import files and get a list with just the las letter of each name\n",
    "female = names.words('female.txt')\n",
    "female = [name[-1:] for name in female if name[-1:] not in [' ']]\n",
    "male = names.words('male.txt')\n",
    "male = [name[-1:] for name in male]\n",
    "\n",
    "# Count totals for each letter in m and f and combine for the total\n",
    "f = Counter(female)\n",
    "m = Counter(male)\n",
    "total = f + m\n",
    "\n",
    "# print\n",
    "f = dict(f)\n",
    "m = dict(m)\n",
    "for l in string.ascii_lowercase :# print\n",
    "    if total.get(l, 0) == 0 :\n",
    "        mp = 0\n",
    "        fp = 0\n",
    "    else :\n",
    "        mp = round(m.get(l, 0) / total[l] * 100)\n",
    "        fp = round(f.get(l,0) / total[l] * 100)\n",
    "    print(l, ' - male : ' , mp, '% female : ', fp, '%', sep='')"
   ]
  }
 ],
 "metadata": {
  "kernelspec": {
   "display_name": "Python 3",
   "language": "python",
   "name": "python3"
  },
  "language_info": {
   "codemirror_mode": {
    "name": "ipython",
    "version": 3
   },
   "file_extension": ".py",
   "mimetype": "text/x-python",
   "name": "python",
   "nbconvert_exporter": "python",
   "pygments_lexer": "ipython3",
   "version": "3.6.0"
  }
 },
 "nbformat": 4,
 "nbformat_minor": 2
}
