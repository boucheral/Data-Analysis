{
 "cells": [
  {
   "cell_type": "markdown",
   "metadata": {},
   "source": [
    "## Question 6"
   ]
  },
  {
   "cell_type": "markdown",
   "metadata": {},
   "source": [
    "* **Under Inaugural Address package**\n",
    "* **For every president, find out how many unique words they used in speech**"
   ]
  },
  {
   "cell_type": "code",
   "execution_count": 1,
   "metadata": {
    "collapsed": false
   },
   "outputs": [
    {
     "name": "stdout",
     "output_type": "stream",
     "text": [
      "Washington - Number of unique words : 628\n",
      "Adams - Number of unique words : 1441\n",
      "Jefferson - Number of unique words : 1208\n",
      "Madison - Number of unique words : 865\n",
      "Monroe - Number of unique words : 1688\n",
      "Jackson - Number of unique words : 810\n",
      "VanBuren - Number of unique words : 1254\n",
      "Harrison - Number of unique words : 2545\n",
      "Polk - Number of unique words : 1260\n",
      "Taylor - Number of unique words : 483\n",
      "Pierce - Number of unique words : 1117\n",
      "Buchanan - Number of unique words : 893\n",
      "Lincoln - Number of unique words : 1180\n",
      "Grant - Number of unique words : 815\n",
      "Hayes - Number of unique words : 803\n",
      "Garfield - Number of unique words : 973\n",
      "Cleveland - Number of unique words : 1168\n",
      "McKinley - Number of unique words : 1606\n",
      "Roosevelt - Number of unique words : 1607\n",
      "Taft - Number of unique words : 1378\n",
      "Wilson - Number of unique words : 950\n",
      "Harding - Number of unique words : 1119\n",
      "Coolidge - Number of unique words : 1160\n",
      "Hoover - Number of unique words : 993\n",
      "Truman - Number of unique words : 741\n",
      "Eisenhower - Number of unique words : 1184\n",
      "Kennedy - Number of unique words : 538\n",
      "Johnson - Number of unique words : 530\n",
      "Nixon - Number of unique words : 982\n",
      "Carter - Number of unique words : 495\n",
      "Reagan - Number of unique words : 1369\n",
      "Bush - Number of unique words : 1481\n",
      "Clinton - Number of unique words : 1058\n",
      "Obama - Number of unique words : 892\n"
     ]
    }
   ],
   "source": [
    "import nltk\n",
    "import string\n",
    "from nltk.corpus import inaugural\n",
    "\n",
    "presidents = {}\n",
    "for title in inaugural.fileids() :\n",
    "    #get the name of the president from the title\n",
    "    name = title.split('-')[1]\n",
    "    name = name[:len(name) - 4]\n",
    "    #print(name)\n",
    "    \n",
    "    #Get the words from that speach, make all of them lowercase and remove punctuation\n",
    "    words = inaugural.words(title)\n",
    "    words = [word.lower() for word in words if word not in set(string.punctuation)]\n",
    "    words = list(set(words))\n",
    "    #print(words)\n",
    "    \n",
    "    #Add to dictionary where k = president name and v.extend.(words)\n",
    "    pwords = presidents.setdefault(name, [])\n",
    "    pwords.extend(words)\n",
    "    \n",
    "for k,v in presidents.items() :\n",
    "    words = list(set(v))\n",
    "    print (k, '- Number of unique words :', len(words))"
   ]
  }
 ],
 "metadata": {
  "kernelspec": {
   "display_name": "Python 3",
   "language": "python",
   "name": "python3"
  },
  "language_info": {
   "codemirror_mode": {
    "name": "ipython",
    "version": 3
   },
   "file_extension": ".py",
   "mimetype": "text/x-python",
   "name": "python",
   "nbconvert_exporter": "python",
   "pygments_lexer": "ipython3",
   "version": "3.6.0"
  }
 },
 "nbformat": 4,
 "nbformat_minor": 2
}
