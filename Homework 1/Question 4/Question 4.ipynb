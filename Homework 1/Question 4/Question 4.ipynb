{
 "cells": [
  {
   "cell_type": "markdown",
   "metadata": {},
   "source": [
    "# Question 4"
   ]
  },
  {
   "cell_type": "markdown",
   "metadata": {},
   "source": [
    "* **Under package nps_chat, see what files are in it**"
   ]
  },
  {
   "cell_type": "code",
   "execution_count": 10,
   "metadata": {
    "collapsed": false
   },
   "outputs": [
    {
     "name": "stdout",
     "output_type": "stream",
     "text": [
      "10-19-20s_706posts.xml\n",
      "10-19-30s_705posts.xml\n",
      "10-19-40s_686posts.xml\n",
      "10-19-adults_706posts.xml\n",
      "10-24-40s_706posts.xml\n",
      "10-26-teens_706posts.xml\n",
      "11-06-adults_706posts.xml\n",
      "11-08-20s_705posts.xml\n",
      "11-08-40s_706posts.xml\n",
      "11-08-adults_705posts.xml\n",
      "11-08-teens_706posts.xml\n",
      "11-09-20s_706posts.xml\n",
      "11-09-40s_706posts.xml\n",
      "11-09-adults_706posts.xml\n",
      "11-09-teens_706posts.xml\n"
     ]
    }
   ],
   "source": [
    "import nltk\n",
    "for c in nltk.corpus.nps_chat.fileids() :\n",
    "    print(c)"
   ]
  },
  {
   "cell_type": "markdown",
   "metadata": {},
   "source": [
    "* **Find 'user121' and see how many posts he posted in all**"
   ]
  },
  {
   "cell_type": "code",
   "execution_count": 41,
   "metadata": {
    "collapsed": false
   },
   "outputs": [
    {
     "name": "stdout",
     "output_type": "stream",
     "text": [
      "User121 posted 132 times\n"
     ]
    }
   ],
   "source": [
    "# Set count to 0\n",
    "count = 0\n",
    "\n",
    "for x in nltk.corpus.nps_chat.fileids() :\n",
    "    name = x.split('_')[0] # gets the first portion of the file name\n",
    "    xml = nltk.corpus.nps_chat.raw(x) #gets full text for that file\n",
    "    xml = xml.split('\\n') # Split up xml into each new line\n",
    "    for line in xml :\n",
    "        #check to see if line is the start to a post tag\n",
    "        if line.startswith('\\t\\t<Post') :\n",
    "            #clean up the line to get just the username\n",
    "            part = line.split(' ')[2]\n",
    "            part = part.split('\"')[1]\n",
    "            part = part[len(name):]\n",
    "            #if that user is User121 then add 1 to the count\n",
    "            if part == 'User121' :\n",
    "                count = count + 1\n",
    "\n",
    "print('User121 posted', count,'times')"
   ]
  },
  {
   "cell_type": "markdown",
   "metadata": {},
   "source": [
    "* **Find out how many unique user in each age range group. (20s, 30s,...)(Hint: files' name)**"
   ]
  },
  {
   "cell_type": "code",
   "execution_count": 9,
   "metadata": {
    "collapsed": false
   },
   "outputs": [
    {
     "name": "stdout",
     "output_type": "stream",
     "text": [
      "20s : 162\n",
      "30s : 44\n",
      "40s : 80\n",
      "adults : 138\n",
      "teens : 206\n"
     ]
    }
   ],
   "source": [
    "d = {}\n",
    "\n",
    "for x in nltk.corpus.nps_chat.fileids() :\n",
    "    l = []\n",
    "    name = x.split('_')[0] # gets the first portion of the file name\n",
    "    age = name.split('-')[2]\n",
    "    xml = nltk.corpus.nps_chat.raw(x) #gets full text for that file\n",
    "    xml = xml.split('\\n') # Split up xml into each new line\n",
    "    for line in xml :\n",
    "        #check to see if line is the start to a post tag\n",
    "        if line.startswith('\\t\\t<Post') :\n",
    "            #clean up the line to get just the username\n",
    "            part = line.split(' ')[2]\n",
    "            part = part.split('\"')[1]\n",
    "            part = part[len(name):]\n",
    "            l.append(part)\n",
    "    l = list(set(l))\n",
    "    v = d.setdefault(age, [])\n",
    "    v.extend(l)\n",
    "    \n",
    "for k in d.keys() :\n",
    "    print(k, ':', len(list(set(d[k]))))"
   ]
  }
 ],
 "metadata": {
  "kernelspec": {
   "display_name": "Python 3",
   "language": "python",
   "name": "python3"
  },
  "language_info": {
   "codemirror_mode": {
    "name": "ipython",
    "version": 3
   },
   "file_extension": ".py",
   "mimetype": "text/x-python",
   "name": "python",
   "nbconvert_exporter": "python",
   "pygments_lexer": "ipython3",
   "version": "3.6.0"
  }
 },
 "nbformat": 4,
 "nbformat_minor": 2
}
