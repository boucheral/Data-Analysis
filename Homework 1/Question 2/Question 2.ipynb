{
 "cells": [
  {
   "cell_type": "markdown",
   "metadata": {},
   "source": [
    "# Question 2"
   ]
  },
  {
   "cell_type": "markdown",
   "metadata": {},
   "source": [
    "* **Under package Gutenberg get content from file 'melville-moby_dick.txt'**"
   ]
  },
  {
   "cell_type": "code",
   "execution_count": 2,
   "metadata": {
    "collapsed": false
   },
   "outputs": [],
   "source": [
    "import nltk\n",
    "import string\n",
    "moby = nltk.corpus.gutenberg.raw('melville-moby_dick.txt')"
   ]
  },
  {
   "cell_type": "markdown",
   "metadata": {},
   "source": [
    "* **Find out frequency of 26 characters. (Turn uppercase into lowercase and count as one character)**"
   ]
  },
  {
   "cell_type": "code",
   "execution_count": 3,
   "metadata": {
    "collapsed": false
   },
   "outputs": [
    {
     "name": "stdout",
     "output_type": "stream",
     "text": [
      "m : 23277\n",
      "o : 69326\n",
      "b : 16877\n",
      "y : 16872\n",
      "d : 38219\n",
      "i : 65434\n",
      "c : 22507\n",
      "k : 8059\n",
      "h : 62896\n",
      "e : 117092\n",
      "r : 52134\n",
      "a : 77916\n",
      "n : 65617\n",
      "l : 42793\n",
      "v : 8598\n",
      "t : 87996\n",
      "g : 20820\n",
      "s : 64231\n",
      "u : 26697\n",
      "p : 17255\n",
      "w : 22222\n",
      "x : 1030\n",
      "q : 1556\n",
      "f : 20833\n",
      "j : 1082\n",
      "z : 632\n"
     ]
    }
   ],
   "source": [
    "l = list(moby.lower())\n",
    "l2 = []\n",
    "for x in l :\n",
    "    if x not in set(string.ascii_lowercase) :\n",
    "        continue\n",
    "    l2.append(x)\n",
    "\n",
    "c = {}\n",
    "\n",
    "for x in l2 :\n",
    "    n = c.setdefault(x, 0)\n",
    "    c[x] = n + 1\n",
    "\n",
    "for k,v in c.items() :\n",
    "    print(k, ':', v) "
   ]
  },
  {
   "cell_type": "markdown",
   "metadata": {},
   "source": [
    "* **List all 26 characters in order based on their frequency**"
   ]
  },
  {
   "cell_type": "code",
   "execution_count": 6,
   "metadata": {
    "collapsed": false
   },
   "outputs": [
    {
     "name": "stdout",
     "output_type": "stream",
     "text": [
      "e : 117092\n",
      "t : 87996\n",
      "a : 77916\n",
      "o : 69326\n",
      "n : 65617\n",
      "i : 65434\n",
      "s : 64231\n",
      "h : 62896\n",
      "r : 52134\n",
      "l : 42793\n",
      "d : 38219\n",
      "u : 26697\n",
      "m : 23277\n",
      "c : 22507\n",
      "w : 22222\n",
      "f : 20833\n",
      "g : 20820\n",
      "p : 17255\n",
      "b : 16877\n",
      "y : 16872\n",
      "v : 8598\n",
      "k : 8059\n",
      "q : 1556\n",
      "j : 1082\n",
      "x : 1030\n",
      "z : 632\n"
     ]
    }
   ],
   "source": [
    "d = {}\n",
    "for k,v in c.items() :\n",
    "    n = d.setdefault(v, [])\n",
    "    n.append(k)\n",
    "\n",
    "n = list(d.keys())\n",
    "n.sort()\n",
    "n.reverse()\n",
    "\n",
    "for x in n :\n",
    "    for letter in d[x] :\n",
    "        print(letter, ':', x)"
   ]
  }
 ],
 "metadata": {
  "kernelspec": {
   "display_name": "Python 3",
   "language": "python",
   "name": "python3"
  },
  "language_info": {
   "codemirror_mode": {
    "name": "ipython",
    "version": 3
   },
   "file_extension": ".py",
   "mimetype": "text/x-python",
   "name": "python",
   "nbconvert_exporter": "python",
   "pygments_lexer": "ipython3",
   "version": "3.6.0"
  }
 },
 "nbformat": 4,
 "nbformat_minor": 2
}
