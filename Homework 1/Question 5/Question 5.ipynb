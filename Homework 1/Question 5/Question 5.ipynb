{
 "cells": [
  {
   "cell_type": "markdown",
   "metadata": {},
   "source": [
    "# Question 5"
   ]
  },
  {
   "cell_type": "markdown",
   "metadata": {},
   "source": [
    "* **Use Gutenberg and Web_text data. Find out what are the top 5 words that Shakespeare used but we do not use in currently**\n",
    "* **Take top 50 words from Shakespeare (all 3 books) and top 50 from Web_text (all the records).**\n",
    "* **Remove punctuation and stop words.**\n",
    "* **Remove the words we still use today, and get the unused list. Show the top 5 elements. **"
   ]
  },
  {
   "cell_type": "code",
   "execution_count": 19,
   "metadata": {
    "collapsed": false
   },
   "outputs": [],
   "source": [
    "import nltk\n",
    "import string\n",
    "import collections\n",
    "import re\n",
    "from collections import Counter\n",
    "from nltk.corpus import stopwords\n",
    "from nltk.stem.porter import PorterStemmer\n",
    "from nltk.stem import WordNetLemmatizer\n",
    "\n",
    "# function to remove all punctuation and stopwords and make words all lowercase\n",
    "def clean(L) :\n",
    "    \n",
    "    p1 = re.compile('[!*.\\s\\d]+')\n",
    "\n",
    "    ll = [x.lower() for x in L if x not in set(string.punctuation)\n",
    "                               if x.lower() not in set(stopwords.words('english'))\n",
    "                               if not p1.match(x)]\n",
    "    return ll\n",
    "\n"
   ]
  },
  {
   "cell_type": "code",
   "execution_count": 26,
   "metadata": {
    "collapsed": true
   },
   "outputs": [],
   "source": [
    "## Get all the data\n",
    "fid = nltk.corpus.gutenberg.fileids()[14:17]\n",
    "    \n",
    "now = list(nltk.corpus.webtext.words())\n",
    "then = list(nltk.corpus.gutenberg.words(fileids = fid))\n",
    "\n",
    "now = clean(now)\n",
    "then = clean(then)\n",
    "\n",
    "now = Counter(now)\n",
    "then = Counter(then)"
   ]
  },
  {
   "cell_type": "code",
   "execution_count": 28,
   "metadata": {
    "collapsed": false
   },
   "outputs": [
    {
     "name": "stdout",
     "output_type": "stream",
     "text": [
      "Top 50 words from WebText :\n",
      "---------------------------\n",
      "('girl', 3059)\n",
      "('guy', 2861)\n",
      "('like', 1746)\n",
      "('open', 1138)\n",
      "('bookmark', 1084)\n",
      "('man', 1075)\n",
      "('get', 1048)\n",
      "('know', 1048)\n",
      "('page', 1043)\n",
      "('woman', 1041)\n",
      "('go', 1024)\n",
      "('window', 986)\n",
      "('yeah', 896)\n",
      "('firefox', 880)\n",
      "('tab', 857)\n",
      "('new', 790)\n",
      "('work', 761)\n",
      "('crash', 752)\n",
      "('one', 729)\n",
      "('chick', 726)\n",
      "('use', 717)\n",
      "('oh', 682)\n",
      "('good', 648)\n",
      "('download', 643)\n",
      "('menu', 625)\n",
      "('click', 625)\n",
      "('look', 614)\n",
      "('want', 609)\n",
      "('teen', 590)\n",
      "('right', 587)\n",
      "('well', 586)\n",
      "('firebird', 585)\n",
      "('cell', 581)\n",
      "('toolbar', 576)\n",
      "('fuck', 574)\n",
      "('ladi', 570)\n",
      "('bar', 565)\n",
      "('file', 558)\n",
      "('think', 558)\n",
      "('time', 557)\n",
      "('button', 517)\n",
      "('boy', 506)\n",
      "('browser', 492)\n",
      "('url', 492)\n",
      "('need', 487)\n",
      "('manag', 484)\n",
      "('jack', 484)\n",
      "('make', 481)\n",
      "('old', 476)\n",
      "('realli', 473)\n"
     ]
    }
   ],
   "source": [
    "if 'come' in now.most_common(50) : print('true')\n",
    "print('Top 50 words from WebText :')\n",
    "print('---------------------------')\n",
    "for word in now.most_common(50) :\n",
    "    print(word)\n",
    "    "
   ]
  },
  {
   "cell_type": "code",
   "execution_count": 22,
   "metadata": {
    "collapsed": false
   },
   "outputs": [
    {
     "name": "stdout",
     "output_type": "stream",
     "text": [
      "Top 50 words in Shakespere :\n",
      "----------------------------\n",
      "('haue', 448)\n",
      "('ham', 337)\n",
      "('thou', 312)\n",
      "('lord', 306)\n",
      "('shall', 300)\n",
      "('come', 284)\n",
      "('king', 250)\n",
      "('enter', 232)\n",
      "('caesar', 231)\n",
      "('let', 221)\n",
      "('good', 218)\n",
      "('thi', 202)\n",
      "('know', 192)\n",
      "('v', 184)\n",
      "('thee', 174)\n",
      "('would', 170)\n",
      "('like', 168)\n",
      "('vpon', 162)\n",
      "('brutu', 162)\n",
      "('make', 153)\n",
      "('bru', 153)\n",
      "('well', 152)\n",
      "('man', 151)\n",
      "('say', 149)\n",
      "('speak', 148)\n",
      "('self', 144)\n",
      "('one', 144)\n",
      "('hath', 144)\n",
      "('may', 138)\n",
      "('loue', 137)\n",
      "('macb', 137)\n",
      "('yet', 136)\n",
      "('heer', 135)\n",
      "('time', 134)\n",
      "('giue', 134)\n",
      "('must', 130)\n",
      "('ti', 129)\n",
      "('night', 129)\n",
      "('th', 125)\n",
      "('see', 124)\n",
      "('sir', 121)\n",
      "('look', 113)\n",
      "('go', 111)\n",
      "('day', 110)\n",
      "('st', 110)\n",
      "('hand', 108)\n",
      "('cassi', 107)\n",
      "('hamlet', 107)\n",
      "('ile', 106)\n",
      "('fear', 104)\n"
     ]
    }
   ],
   "source": [
    "print('Top 50 words in Shakespere :')\n",
    "print('----------------------------')\n",
    "for word in then.most_common(50) :\n",
    "    print(word)"
   ]
  },
  {
   "cell_type": "code",
   "execution_count": 23,
   "metadata": {
    "collapsed": false
   },
   "outputs": [],
   "source": [
    "now = dict(now)\n",
    "#remove any words from then that are in now\n",
    "oldwords = {}\n",
    "for k,v in then.most_common(50) :\n",
    "    if k in set(now.keys()) :\n",
    "        oldwords[k] = v\n",
    "        \n",
    "oldwords = Counter(oldwords)"
   ]
  },
  {
   "cell_type": "code",
   "execution_count": 24,
   "metadata": {
    "collapsed": false
   },
   "outputs": [
    {
     "name": "stdout",
     "output_type": "stream",
     "text": [
      "Five most common words used by Shakespere that are not still used :\n",
      "-------------------------------------------------------------------\n",
      "ham\n",
      "thou\n",
      "lord\n",
      "shall\n",
      "come\n"
     ]
    }
   ],
   "source": [
    "print(\"Five most common words used by Shakespere that are not still used :\")\n",
    "print('-------------------------------------------------------------------')\n",
    "for k,v in oldwords.most_common(5) :\n",
    "    print(k)"
   ]
  }
 ],
 "metadata": {
  "kernelspec": {
   "display_name": "Python 3",
   "language": "python",
   "name": "python3"
  },
  "language_info": {
   "codemirror_mode": {
    "name": "ipython",
    "version": 3
   },
   "file_extension": ".py",
   "mimetype": "text/x-python",
   "name": "python",
   "nbconvert_exporter": "python",
   "pygments_lexer": "ipython3",
   "version": "3.6.0"
  }
 },
 "nbformat": 4,
 "nbformat_minor": 2
}
