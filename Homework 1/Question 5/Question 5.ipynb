{
 "cells": [
  {
   "cell_type": "markdown",
   "metadata": {},
   "source": [
    "# Question 5"
   ]
  },
  {
   "cell_type": "markdown",
   "metadata": {},
   "source": [
    "* **Use Gutenberg and Web_text data. Find out what are the top 5 words that Shakespeare used but we do not use in currently**\n",
    "* **Take top 50 words from Shakespeare (all 3 books) and top 50 from Web_text (all the records).**\n",
    "* **Remove punctuation and stop words.**\n",
    "* **Remove the words we still use today, and get the unused list. Show the top 5 elements. **"
   ]
  },
  {
   "cell_type": "code",
   "execution_count": 68,
   "metadata": {
    "collapsed": false
   },
   "outputs": [],
   "source": [
    "import nltk\n",
    "import string\n",
    "import collections\n",
    "import re\n",
    "from collections import Counter\n",
    "from nltk.corpus import stopwords\n",
    "\n",
    "# function to remove all punctuation and stopwords and make words all lowercase\n",
    "def clean(L) :\n",
    "    \n",
    "    p1 = re.compile('[!.\\s\\d]+')\n",
    "    \n",
    "    ll = [x.lower() for x in L if x not in set(string.punctuation)\n",
    "                               if x.lower() not in set(stopwords.words('english'))\n",
    "                               if not p1.match(x)]\n",
    "    return ll\n",
    "\n"
   ]
  },
  {
   "cell_type": "code",
   "execution_count": 69,
   "metadata": {
    "collapsed": true
   },
   "outputs": [],
   "source": [
    "## Get all the data\n",
    "fid = nltk.corpus.gutenberg.fileids()[14:17]\n",
    "    \n",
    "now = list(nltk.corpus.webtext.words())\n",
    "then = list(nltk.corpus.gutenberg.words(fileids = fid))\n",
    "\n",
    "now = clean(now)\n",
    "then = clean(then)\n"
   ]
  },
  {
   "cell_type": "code",
   "execution_count": 74,
   "metadata": {
    "collapsed": false
   },
   "outputs": [],
   "source": [
    "now = dict(Counter(now))\n",
    "then = Counter(then)\n",
    "\n",
    "#remove any words from then that are in now\n",
    "oldwords = {}\n",
    "for k,v in then.most_common(50) :\n",
    "    if k in set(now.keys()) :\n",
    "        oldwords[k] = v\n",
    "        \n",
    "oldwords = Counter(oldwords)"
   ]
  },
  {
   "cell_type": "code",
   "execution_count": 78,
   "metadata": {
    "collapsed": false
   },
   "outputs": [
    {
     "name": "stdout",
     "output_type": "stream",
     "text": [
      "Five most common words used by Shakespere that are not still used :\n",
      "-------------------------------------------------------------------\n",
      "ham\n",
      "thou\n",
      "shall\n",
      "lord\n",
      "come\n"
     ]
    }
   ],
   "source": [
    "print(\"Five most common words used by Shakespere that are not still used :\")\n",
    "print('-------------------------------------------------------------------')\n",
    "for k,v in oldwords.most_common(5) :\n",
    "    print(k)"
   ]
  }
 ],
 "metadata": {
  "kernelspec": {
   "display_name": "Python 3",
   "language": "python",
   "name": "python3"
  },
  "language_info": {
   "codemirror_mode": {
    "name": "ipython",
    "version": 3
   },
   "file_extension": ".py",
   "mimetype": "text/x-python",
   "name": "python",
   "nbconvert_exporter": "python",
   "pygments_lexer": "ipython3",
   "version": "3.6.0"
  }
 },
 "nbformat": 4,
 "nbformat_minor": 2
}
