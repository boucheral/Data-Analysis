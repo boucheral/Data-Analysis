{
 "cells": [
  {
   "cell_type": "markdown",
   "metadata": {},
   "source": [
    "# Question 8"
   ]
  },
  {
   "cell_type": "markdown",
   "metadata": {},
   "source": [
    "* **Use nps_chat and wordlist corpus.**\n",
    "* **If you find a word in nps_chat but not in wordlist, it is considered an unusual word. (e.g. Heyyyy, gr8, 4ever can be considered unusual words for this analysis)**\n",
    "* **Find out how many unusual words people speak in chat (notice: usernames should not be counted)**\n",
    "* **Bonus: What if I want to  count : ) , : ( all these emoticons in. (optional)**\n"
   ]
  },
  {
   "cell_type": "code",
   "execution_count": 17,
   "metadata": {
    "collapsed": false
   },
   "outputs": [],
   "source": [
    "#import both texts and clean\n",
    "import nltk\n",
    "import string\n",
    "import re\n",
    "from nltk.corpus import nps_chat\n",
    "from nltk.corpus import words\n",
    "nps = nps_chat.words()\n",
    "words = words.words()\n",
    "p1 = re.compile('U\\d+') #Usernames are all U followed by some numbers\n",
    "p2 = re.compile('[\"\\',<&>\\+!\\*/\\[\\].\\^\\->?\\s\\d()~#]+') #anything with only . ! digits and whitespace\n",
    "nps = [word for word in nps if word not in set(string.punctuation)\n",
    "                            if not p1.match(word)\n",
    "                            if not p2.match(word)]"
   ]
  },
  {
   "cell_type": "code",
   "execution_count": 9,
   "metadata": {
    "collapsed": true
   },
   "outputs": [],
   "source": [
    "#create dictionary so you don't have to search through whole list every time\n",
    "D = {}\n",
    "for word in words :\n",
    "    k = word.lower()[:1]\n",
    "    v = D.setdefault(k, [])\n",
    "    v.append(word.lower())\n"
   ]
  },
  {
   "cell_type": "code",
   "execution_count": 18,
   "metadata": {
    "collapsed": false
   },
   "outputs": [],
   "source": [
    "# add all words in nps_chat that are not in the wordlist\n",
    "unusual = [word for word in nps if word.lower() not in set(D.get(word.lower()[:1], []))]\n"
   ]
  },
  {
   "cell_type": "code",
   "execution_count": 19,
   "metadata": {
    "collapsed": false
   },
   "outputs": [
    {
     "name": "stdout",
     "output_type": "stream",
     "text": [
      "There are 2436 words in nps_chat that are not in the wordlist\n"
     ]
    }
   ],
   "source": [
    "print('There are', len(list(set(unusual))), 'words in nps_chat that are not in the wordlist')"
   ]
  }
 ],
 "metadata": {
  "kernelspec": {
   "display_name": "Python 3",
   "language": "python",
   "name": "python3"
  },
  "language_info": {
   "codemirror_mode": {
    "name": "ipython",
    "version": 3
   },
   "file_extension": ".py",
   "mimetype": "text/x-python",
   "name": "python",
   "nbconvert_exporter": "python",
   "pygments_lexer": "ipython3",
   "version": "3.6.0"
  }
 },
 "nbformat": 4,
 "nbformat_minor": 2
}
